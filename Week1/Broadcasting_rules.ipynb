{
  "nbformat": 4,
  "nbformat_minor": 0,
  "metadata": {
    "kernelspec": {
      "display_name": "Python 3",
      "language": "python",
      "name": "python3"
    },
    "language_info": {
      "codemirror_mode": {
        "name": "ipython",
        "version": 3
      },
      "file_extension": ".py",
      "mimetype": "text/x-python",
      "name": "python",
      "nbconvert_exporter": "python",
      "pygments_lexer": "ipython3",
      "version": "3.7.1"
    },
    "colab": {
      "name": "Broadcasting rules.ipynb",
      "provenance": [],
      "collapsed_sections": [
        "y9Mz2mOeB0m8"
      ],
      "include_colab_link": true
    }
  },
  "cells": [
    {
      "cell_type": "markdown",
      "metadata": {
        "id": "view-in-github",
        "colab_type": "text"
      },
      "source": [
        "<a href=\"https://colab.research.google.com/github/stevensmiley1989/Prob_TF2_Examples/blob/main/Broadcasting_rules.ipynb\" target=\"_parent\"><img src=\"https://colab.research.google.com/assets/colab-badge.svg\" alt=\"Open In Colab\"/></a>"
      ]
    },
    {
      "cell_type": "markdown",
      "metadata": {
        "id": "4AsV5AyeB0lZ"
      },
      "source": [
        "# Broadcasting rules"
      ]
    },
    {
      "cell_type": "markdown",
      "metadata": {
        "id": "Wc-AIXTdB0la"
      },
      "source": [
        "This reading will introduce you to numpy's broadcasting rules and show how you can use broadcasting when specifying batches of distributions in TensorFlow, as well as with the `prob` and `log_prob` methods.\n",
        "\n",
        "Broadcasting will also be discussed and demonstrated in the following videos."
      ]
    },
    {
      "cell_type": "code",
      "metadata": {
        "id": "xw4u5VRQB0lb",
        "colab": {
          "base_uri": "https://localhost:8080/"
        },
        "outputId": "682cf385-a8f7-4ded-925d-ba60ff445bfd"
      },
      "source": [
        "import tensorflow as tf\n",
        "import tensorflow_probability as tfp\n",
        "tfd = tfp.distributions\n",
        "\n",
        "print(\"TF version:\", tf.__version__)\n",
        "print(\"TFP version:\", tfp.__version__)"
      ],
      "execution_count": null,
      "outputs": [
        {
          "output_type": "stream",
          "name": "stdout",
          "text": [
            "TF version: 2.7.0\n",
            "TFP version: 0.15.0\n"
          ]
        }
      ]
    },
    {
      "cell_type": "code",
      "metadata": {
        "id": "EBXqg0RuB0ld"
      },
      "source": [
        "import numpy as np"
      ],
      "execution_count": null,
      "outputs": []
    },
    {
      "cell_type": "markdown",
      "metadata": {
        "id": "fXlnBPY0B0lg"
      },
      "source": [
        "## Operations on arrays of different sizes in numpy"
      ]
    },
    {
      "cell_type": "markdown",
      "metadata": {
        "id": "Ilprv2iaB0lg"
      },
      "source": [
        "Numpy operations can be applied to arrays that are not of the same shape, but only if the shapes satisfy certain conditions.\n",
        "\n",
        "As a demonstration of this, let us add together two arrays of different shapes:"
      ]
    },
    {
      "cell_type": "code",
      "metadata": {
        "id": "Rq5NwCWJB0lh",
        "colab": {
          "base_uri": "https://localhost:8080/"
        },
        "outputId": "526fb7cc-ca02-4345-e239-65554d73d1fe"
      },
      "source": [
        "# Add two arrays with different shapes\n",
        "\n",
        "a = np.array([[1.],\n",
        "              [2.],\n",
        "              [3.],\n",
        "              [4.]])  # shape (4, 1)\n",
        "\n",
        "b = np.array([0., 1., 2.])  # shape (3,) \n",
        "\n",
        "a + b"
      ],
      "execution_count": null,
      "outputs": [
        {
          "output_type": "execute_result",
          "data": {
            "text/plain": [
              "array([[1., 2., 3.],\n",
              "       [2., 3., 4.],\n",
              "       [3., 4., 5.],\n",
              "       [4., 5., 6.]])"
            ]
          },
          "metadata": {},
          "execution_count": 3
        }
      ]
    },
    {
      "cell_type": "markdown",
      "metadata": {
        "id": "qmqhmOBUB0lj"
      },
      "source": [
        "This is the addition\n",
        "\n",
        "    [ [1.],    +  [0., 1., 2.]  \n",
        "      [2.],  \n",
        "      [3.],  \n",
        "      [4.] ]\n",
        "\n",
        "To execute it, numpy:\n",
        "1. Aligned the shapes of `a` and `b` on the last axis and prepended 1s to the shape with fewer axes:\n",
        "        a: 4 x 1     --->    a: 4 x 1\n",
        "        b:     3     --->    b: 1 x 3\n",
        "        \n",
        "\n",
        "2. Checked that the sizes of the axes matched or were equal to 1:\n",
        "        a: 4 x 1  \n",
        "        b: 1 x 3\n",
        "`a` and `b` satisfied this criterion. \n",
        "\n",
        "\n",
        "3. Stretched both arrays on their 1-valued axes so that their shapes matched, then added them together.  \n",
        "`a` was replicated 3 times in the second axis, while `b` was replicated 4 times in the first axis.\n",
        "\n",
        "This meant that the addition in the final step was\n",
        "\n",
        "    [ [1., 1., 1.],    +  [ [0., 1., 2.],  \n",
        "      [2., 2., 2.],         [0., 1., 2.],  \n",
        "      [3., 3., 3.],         [0., 1., 2.],  \n",
        "      [4., 4., 4.] ]        [0., 1., 2.] ]\n",
        "      \n",
        "Addition was then carried out element-by-element, as you can verify by referring back to the output of the code cell above.  \n",
        "This resulted in an output with shape 4 x 3.\n",
        "\n",
        "\n",
        "## Numpy's broadcasting rule\n",
        "\n",
        "Broadcasting rules describe how values should be transmitted when the inputs to an operation do not match.  \n",
        "In numpy, the broadcasting rule is very simple:\n",
        "> Prepend 1s to the smaller shape,   \n",
        "check that the axes of both arrays have sizes that are equal or 1,  \n",
        "then stretch the arrays in their size-1 axes.\n",
        "\n",
        "A crucial aspect of this rule is that it does not require the input arrays have the same number of axes.  \n",
        "Another consequence of it is that a broadcasting output will have the largest size of its inputs in each axis.  \n",
        "Take the following multiplication as an example:\n",
        "\n",
        "        a: 3 x 7 x 1  \n",
        "        b:     1 x 5  \n",
        "    a * b: 3 x 7 x 5\n",
        "\n",
        "You can see that the output shape is the maximum of the sizes in each axis.\n",
        "\n",
        "Numpy's broadcasting rule also does not require that one of the arrays has to be bigger in all axes.  \n",
        "This is seen in the following example, where `a` is smaller than `b` in its third axis but is bigger in its second axis."
      ]
    },
    {
      "cell_type": "code",
      "metadata": {
        "id": "Ei8CqFoPB0lk",
        "colab": {
          "base_uri": "https://localhost:8080/"
        },
        "outputId": "f41c4801-2a2a-4ff6-e2f4-04477b64fcf9"
      },
      "source": [
        "# Multiply two arrays with different shapes\n",
        "\n",
        "a = np.array([[[0.01], [0.1]],\n",
        "              [[1.00], [10.]]])  # shape (2, 2, 1)\n",
        "b = np.array([[[2., 2.]],\n",
        "              [[3., 3.]]])       # shape (2, 1, 2)\n",
        "\n",
        "a * b # shape (2, 2, 2)"
      ],
      "execution_count": null,
      "outputs": [
        {
          "output_type": "execute_result",
          "data": {
            "text/plain": [
              "array([[[2.e-02, 2.e-02],\n",
              "        [2.e-01, 2.e-01]],\n",
              "\n",
              "       [[3.e+00, 3.e+00],\n",
              "        [3.e+01, 3.e+01]]])"
            ]
          },
          "metadata": {},
          "execution_count": 4
        }
      ]
    },
    {
      "cell_type": "markdown",
      "metadata": {
        "id": "7-mRho1QB0lm"
      },
      "source": [
        "Broadcasting behaviour also points to an efficient way to compute an outer product in numpy:"
      ]
    },
    {
      "cell_type": "code",
      "metadata": {
        "id": "FRgof7OoB0ln",
        "colab": {
          "base_uri": "https://localhost:8080/"
        },
        "outputId": "01496f62-4018-4cc4-e686-6687a37d2037"
      },
      "source": [
        "# Use broadcasting to compute an outer product\n",
        "\n",
        "a = np.array([-1., 0., 1.])\n",
        "b = np.array([0., 1., 2., 3.])\n",
        "\n",
        "a[:, np.newaxis] * b  # outer product ab^T, where a and b are column vectors"
      ],
      "execution_count": null,
      "outputs": [
        {
          "output_type": "execute_result",
          "data": {
            "text/plain": [
              "array([[-0., -1., -2., -3.],\n",
              "       [ 0.,  0.,  0.,  0.],\n",
              "       [ 0.,  1.,  2.,  3.]])"
            ]
          },
          "metadata": {},
          "execution_count": 5
        }
      ]
    },
    {
      "cell_type": "markdown",
      "metadata": {
        "id": "cfDPtyr8B0lp"
      },
      "source": [
        "The idea of numpy stretching the arrays in their size-1 axes is useful and is functionally correct. But this is not what numpy literally does behind the scenes, since that would be an inefficient use of memory. Instead, numpy carries out the operation by looping over singleton (size-1) dimensions.\n",
        "\n",
        "To give you some practise with broadcasting, try predicting the output shapes for the following operations:"
      ]
    },
    {
      "cell_type": "code",
      "source": [
        "a=np.asarray([1.,2.,3.])\n",
        "a.shape"
      ],
      "metadata": {
        "colab": {
          "base_uri": "https://localhost:8080/"
        },
        "id": "sDODEaRFsAcZ",
        "outputId": "a7aace0d-0ebf-4bb8-a28b-7290ff93aae9"
      },
      "execution_count": null,
      "outputs": [
        {
          "output_type": "execute_result",
          "data": {
            "text/plain": [
              "(3,)"
            ]
          },
          "metadata": {},
          "execution_count": 28
        }
      ]
    },
    {
      "cell_type": "code",
      "metadata": {
        "id": "KNXuZL19B0lp",
        "colab": {
          "base_uri": "https://localhost:8080/"
        },
        "outputId": "5f278cec-e331-4243-8f37-49459b7bf200"
      },
      "source": [
        "# Define three arrays with different shapes\n",
        "\n",
        "a = np.asarray([[1.], [2.], [3.]])\n",
        "b = np.zeros(shape=[10, 1, 1])\n",
        "c = np.ones(shape=[4])\n",
        "print(a.shape)\n",
        "print(b.shape)\n",
        "print(c.shape)"
      ],
      "execution_count": null,
      "outputs": [
        {
          "output_type": "stream",
          "name": "stdout",
          "text": [
            "(3, 1)\n",
            "(10, 1, 1)\n",
            "(4,)\n"
          ]
        }
      ]
    },
    {
      "cell_type": "code",
      "metadata": {
        "id": "kT4fGb-kB0ls",
        "colab": {
          "base_uri": "https://localhost:8080/"
        },
        "outputId": "7e38c752-bf4f-4671-cd11-b0aa9b312dd6"
      },
      "source": [
        "# Predict the shape before executing this cell\n",
        "\n",
        "(a + b).shape"
      ],
      "execution_count": null,
      "outputs": [
        {
          "output_type": "execute_result",
          "data": {
            "text/plain": [
              "(10, 3, 1)"
            ]
          },
          "metadata": {},
          "execution_count": 30
        }
      ]
    },
    {
      "cell_type": "code",
      "metadata": {
        "id": "ALiWS10dB0lv",
        "colab": {
          "base_uri": "https://localhost:8080/"
        },
        "outputId": "78e31ee6-d4ea-43ed-b3ec-6c4363db9b1b"
      },
      "source": [
        "# Predict the shape before executing this cell\n",
        "\n",
        "(a*c).shape"
      ],
      "execution_count": null,
      "outputs": [
        {
          "output_type": "execute_result",
          "data": {
            "text/plain": [
              "(3, 4)"
            ]
          },
          "metadata": {},
          "execution_count": 31
        }
      ]
    },
    {
      "cell_type": "code",
      "metadata": {
        "id": "V-Ij6P5yB0lx",
        "colab": {
          "base_uri": "https://localhost:8080/"
        },
        "outputId": "40337a24-5c2b-4353-e5a0-7605266bd0dd"
      },
      "source": [
        "# Predict the shape before executing this cell\n",
        "\n",
        "(a*b + c).shape"
      ],
      "execution_count": null,
      "outputs": [
        {
          "output_type": "execute_result",
          "data": {
            "text/plain": [
              "(10, 3, 4)"
            ]
          },
          "metadata": {},
          "execution_count": 32
        }
      ]
    },
    {
      "cell_type": "markdown",
      "metadata": {
        "id": "s8LB6VMYB0lz"
      },
      "source": [
        "## Broadcasting for univariate TensorFlow Distributions"
      ]
    },
    {
      "cell_type": "markdown",
      "metadata": {
        "id": "1-kOD9oiB0l0"
      },
      "source": [
        "The broadcasting rule for TensorFlow is the same as that for numpy. For example, TensorFlow also allows you to specify the parameters of Distribution objects using broadcasting. \n",
        "\n",
        "What is meant by this can be understood through an example with the univariate normal distribution. Say that we wish to specify a parameter grid for six Gaussians. The parameter combinations to be used, `(loc, scale)`, are:  \n",
        "\n",
        "    (0, 1)  \n",
        "    (0, 10)  \n",
        "    (0, 100)  \n",
        "    (1, 1)  \n",
        "    (1, 10)  \n",
        "    (1, 100)\n",
        "    \n",
        "A laborious way of doing this is to explicitly pass each parameter to `tfd.Normal`:"
      ]
    },
    {
      "cell_type": "code",
      "metadata": {
        "id": "V6cKtszcB0l0"
      },
      "source": [
        "# Define a batch of Normal distributions without broadcasting\n",
        "\n",
        "batch_of_normals = tfd.Normal(loc=[0., 0., 0., 1., 1., 1.], scale=[1., 10., 100., 1., 10., 100.])"
      ],
      "execution_count": null,
      "outputs": []
    },
    {
      "cell_type": "code",
      "metadata": {
        "id": "Rs52fx9KB0l3",
        "colab": {
          "base_uri": "https://localhost:8080/"
        },
        "outputId": "c3b35b43-fdb1-4c6a-ea51-7924d258eb24"
      },
      "source": [
        "# Print the distribution and notice the batch and event shapes\n",
        "\n",
        "batch_of_normals"
      ],
      "execution_count": null,
      "outputs": [
        {
          "output_type": "execute_result",
          "data": {
            "text/plain": [
              "<tfp.distributions.Normal 'Normal' batch_shape=[6] event_shape=[] dtype=float32>"
            ]
          },
          "metadata": {},
          "execution_count": 34
        }
      ]
    },
    {
      "cell_type": "code",
      "metadata": {
        "id": "c8-YMamrB0l5",
        "colab": {
          "base_uri": "https://localhost:8080/"
        },
        "outputId": "1d9d2866-8e65-4e0e-b898-c61b33e143ec"
      },
      "source": [
        "# Check the parameter values for loc\n",
        "\n",
        "batch_of_normals.loc"
      ],
      "execution_count": null,
      "outputs": [
        {
          "output_type": "execute_result",
          "data": {
            "text/plain": [
              "<tf.Tensor: shape=(6,), dtype=float32, numpy=array([0., 0., 0., 1., 1., 1.], dtype=float32)>"
            ]
          },
          "metadata": {},
          "execution_count": 35
        }
      ]
    },
    {
      "cell_type": "code",
      "metadata": {
        "id": "B1QiP1-RB0l7",
        "colab": {
          "base_uri": "https://localhost:8080/"
        },
        "outputId": "10ef68aa-0ee7-4576-cb8c-b8076db2bc1f"
      },
      "source": [
        "# Check the parameter values for scale\n",
        "\n",
        "batch_of_normals.scale"
      ],
      "execution_count": null,
      "outputs": [
        {
          "output_type": "execute_result",
          "data": {
            "text/plain": [
              "<tf.Tensor: shape=(6,), dtype=float32, numpy=array([  1.,  10., 100.,   1.,  10., 100.], dtype=float32)>"
            ]
          },
          "metadata": {},
          "execution_count": 36
        }
      ]
    },
    {
      "cell_type": "markdown",
      "metadata": {
        "id": "qRoVcY6zB0l9"
      },
      "source": [
        "A more succinct way to create a batch of distributions for this parameter grid is to use broadcasting.  \n",
        "Consider what would happen if we were to broadcast these arrays according the rule discussed earlier: \n",
        "    \n",
        "    loc = [ [0.],\n",
        "            [1.] ]\n",
        "    scale = [1., 10., 100.]\n",
        "    \n",
        "The shapes would be stretched according to\n",
        "\n",
        "    loc:   2 x 1 ---> 2 x 3\n",
        "    scale: 1 x 3 ---> 2 x 3\n",
        "    \n",
        "resulting in\n",
        "\n",
        "    loc = [ [0., 0., 0.],\n",
        "            [1., 1., 1.] ]\n",
        "    scale = [ [1., 10., 100.],\n",
        "              [1., 10., 100.] ]\n",
        "              \n",
        "which are compatible with the `loc` and `scale` arguments of `tfd.Normal`.  \n",
        "Sure enough, this is precisely what TensorFlow does:"
      ]
    },
    {
      "cell_type": "code",
      "metadata": {
        "id": "OtNwpd6sB0l-"
      },
      "source": [
        "# Define a batch of Normal distributions with broadcasting\n",
        "\n",
        "loc = [[0.],\n",
        "       [1.]]\n",
        "scale = [1., 10., 100.]\n",
        "\n",
        "another_batch_of_normals = tfd.Normal(loc=loc, scale=scale)"
      ],
      "execution_count": null,
      "outputs": []
    },
    {
      "cell_type": "code",
      "metadata": {
        "id": "BLMOwp6OB0mA",
        "colab": {
          "base_uri": "https://localhost:8080/"
        },
        "outputId": "725f456b-c9a1-4a43-c40c-99fc517b9cbc"
      },
      "source": [
        "# Print the distribution and notice the batch and event shapes\n",
        "\n",
        "another_batch_of_normals"
      ],
      "execution_count": null,
      "outputs": [
        {
          "output_type": "execute_result",
          "data": {
            "text/plain": [
              "<tfp.distributions.Normal 'Normal' batch_shape=[2, 3] event_shape=[] dtype=float32>"
            ]
          },
          "metadata": {},
          "execution_count": 38
        }
      ]
    },
    {
      "cell_type": "code",
      "metadata": {
        "id": "_yTSVcyoB0mD",
        "colab": {
          "base_uri": "https://localhost:8080/"
        },
        "outputId": "206d56bd-a9ec-43cb-cd7a-cbb863129b5e"
      },
      "source": [
        "# The stored loc parameter values are what you pass in, not what is used after broadcasting\n",
        "\n",
        "another_batch_of_normals.loc"
      ],
      "execution_count": null,
      "outputs": [
        {
          "output_type": "execute_result",
          "data": {
            "text/plain": [
              "<tf.Tensor: shape=(2, 1), dtype=float32, numpy=\n",
              "array([[0.],\n",
              "       [1.]], dtype=float32)>"
            ]
          },
          "metadata": {},
          "execution_count": 39
        }
      ]
    },
    {
      "cell_type": "code",
      "metadata": {
        "id": "j0Nde2vWB0mG",
        "colab": {
          "base_uri": "https://localhost:8080/"
        },
        "outputId": "db134337-c1cb-4f27-b2dd-a194fea51263"
      },
      "source": [
        "# The stored scale parameter values are what you pass in, not what is used after broadcasting\n",
        "\n",
        "another_batch_of_normals.scale"
      ],
      "execution_count": null,
      "outputs": [
        {
          "output_type": "execute_result",
          "data": {
            "text/plain": [
              "<tf.Tensor: shape=(3,), dtype=float32, numpy=array([  1.,  10., 100.], dtype=float32)>"
            ]
          },
          "metadata": {},
          "execution_count": 40
        }
      ]
    },
    {
      "cell_type": "markdown",
      "metadata": {
        "id": "N5fs-qA0B0mI"
      },
      "source": [
        "In summary, TensorFlow broadcasts parameter arrays: it stretches them according to the broadcasting rule, then creates a distribution on an element-by-element basis."
      ]
    },
    {
      "cell_type": "markdown",
      "metadata": {
        "id": "twMTIKqHB0mI"
      },
      "source": [
        "#### Broadcasting with `prob` and `log_prob` methods"
      ]
    },
    {
      "cell_type": "markdown",
      "metadata": {
        "id": "yBgjn_KFB0mJ"
      },
      "source": [
        "When using `prob` and  `log_prob` with broadcasting, we follow the same principles as before. Let's make a new batch of normals as before but with means which are centered at different locations to help distinguish the results we get."
      ]
    },
    {
      "cell_type": "code",
      "metadata": {
        "id": "jzxIS-r-B0mJ",
        "colab": {
          "base_uri": "https://localhost:8080/"
        },
        "outputId": "aaa40e95-075e-4591-afa0-bb5b2c61a461"
      },
      "source": [
        "# Define a batch of Normal distributions with broadcasting\n",
        "\n",
        "loc = [[0.],\n",
        "       [10.]]\n",
        "scale = [1., 1., 1.]\n",
        "\n",
        "another_batch_of_normals = tfd.Normal(loc=loc, scale=scale)\n",
        "another_batch_of_normals"
      ],
      "execution_count": null,
      "outputs": [
        {
          "output_type": "execute_result",
          "data": {
            "text/plain": [
              "<tfp.distributions.Normal 'Normal' batch_shape=[2, 3] event_shape=[] dtype=float32>"
            ]
          },
          "metadata": {},
          "execution_count": 41
        }
      ]
    },
    {
      "cell_type": "markdown",
      "metadata": {
        "id": "p6FY_x8cB0mL"
      },
      "source": [
        "We can feed in samples of any shape as long as it can be broadcast agasint our batch shape for this example. "
      ]
    },
    {
      "cell_type": "code",
      "metadata": {
        "id": "tgDX0R72B0mL",
        "colab": {
          "base_uri": "https://localhost:8080/"
        },
        "outputId": "6ebbb35e-a0c4-4428-cb83-6bcdced5af55"
      },
      "source": [
        "# Use broadcasting along the second axis with the prob method\n",
        "\n",
        "sample = tf.random.uniform((2,1))\n",
        "another_batch_of_normals.prob(sample)"
      ],
      "execution_count": null,
      "outputs": [
        {
          "output_type": "execute_result",
          "data": {
            "text/plain": [
              "<tf.Tensor: shape=(2, 3), dtype=float32, numpy=\n",
              "array([[2.5836602e-01, 2.5836602e-01, 2.5836602e-01],\n",
              "       [1.7802145e-20, 1.7802145e-20, 1.7802145e-20]], dtype=float32)>"
            ]
          },
          "metadata": {},
          "execution_count": 42
        }
      ]
    },
    {
      "cell_type": "markdown",
      "metadata": {
        "id": "4uYymGXhB0mN"
      },
      "source": [
        "Or boradcasting along the first axis instead:"
      ]
    },
    {
      "cell_type": "code",
      "metadata": {
        "id": "JIIh14u0B0mO",
        "colab": {
          "base_uri": "https://localhost:8080/"
        },
        "outputId": "611b7122-4f75-471b-ab7f-90edf8d8e03a"
      },
      "source": [
        "# Use broadcasting along the first axis with the prob method\n",
        "\n",
        "sample = tf.random.uniform((1,3))\n",
        "another_batch_of_normals.prob(sample)"
      ],
      "execution_count": null,
      "outputs": [
        {
          "output_type": "execute_result",
          "data": {
            "text/plain": [
              "<tf.Tensor: shape=(2, 3), dtype=float32, numpy=\n",
              "array([[3.8577217e-01, 3.9594123e-01, 3.9716700e-01],\n",
              "       [9.9293814e-22, 2.6098124e-22, 1.9697719e-22]], dtype=float32)>"
            ]
          },
          "metadata": {},
          "execution_count": 43
        }
      ]
    },
    {
      "cell_type": "markdown",
      "metadata": {
        "id": "yjIvboCxB0mQ"
      },
      "source": [
        "Or even both axes:"
      ]
    },
    {
      "cell_type": "code",
      "metadata": {
        "id": "H4-SQnv_B0mQ",
        "colab": {
          "base_uri": "https://localhost:8080/"
        },
        "outputId": "75302d8f-bf3b-472c-ed5b-8c9131065a5d"
      },
      "source": [
        "# Use broadcasting along both axes with the prob method\n",
        "\n",
        "sample = tf.random.uniform((1,1))\n",
        "another_batch_of_normals.prob(sample)"
      ],
      "execution_count": null,
      "outputs": [
        {
          "output_type": "execute_result",
          "data": {
            "text/plain": [
              "<tf.Tensor: shape=(2, 3), dtype=float32, numpy=\n",
              "array([[3.2721528e-01, 3.2721528e-01, 3.2721528e-01],\n",
              "       [3.4231774e-20, 3.4231774e-20, 3.4231774e-20]], dtype=float32)>"
            ]
          },
          "metadata": {},
          "execution_count": 44
        }
      ]
    },
    {
      "cell_type": "markdown",
      "metadata": {
        "id": "1a6xQjywB0mT"
      },
      "source": [
        "`log_prob` works in the exact same way with broadcasting. We can replace `prob` with `log_prob` in any of the previous examples:"
      ]
    },
    {
      "cell_type": "code",
      "metadata": {
        "id": "OWL5JdA4B0mT",
        "colab": {
          "base_uri": "https://localhost:8080/"
        },
        "outputId": "9d9083db-3b80-4b1f-a988-4135bfa4b99a"
      },
      "source": [
        "# Use broadcasting along the first axis with the log_prob method\n",
        "\n",
        "sample = tf.random.uniform((1,3))\n",
        "another_batch_of_normals.log_prob(sample)"
      ],
      "execution_count": null,
      "outputs": [
        {
          "output_type": "execute_result",
          "data": {
            "text/plain": [
              "<tf.Tensor: shape=(2, 3), dtype=float32, numpy=\n",
              "array([[ -0.92358476,  -1.1121577 ,  -1.0134356 ],\n",
              "       [-49.95961   , -44.895737  , -46.666092  ]], dtype=float32)>"
            ]
          },
          "metadata": {},
          "execution_count": 45
        }
      ]
    },
    {
      "cell_type": "markdown",
      "metadata": {
        "id": "u2SDMySvB0mW"
      },
      "source": [
        "## Broadcasting for multivariate TensorFlow distributions"
      ]
    },
    {
      "cell_type": "markdown",
      "metadata": {
        "id": "pxvySIX1B0mX"
      },
      "source": [
        "Broadcasting behaviour for multivariate distributions is only a little more sophisticated than it is for univariate distributions.\n",
        "\n",
        "Recall that `MultivariateNormalDiag` has two parameter arguments: `loc` and `scale_diag`. When specifying a single distribution, these arguments are vectors of the same length:"
      ]
    },
    {
      "cell_type": "code",
      "metadata": {
        "id": "3NpcdNEfB0mX",
        "colab": {
          "base_uri": "https://localhost:8080/"
        },
        "outputId": "a145fced-1824-4e50-a8d5-8434554b4a4c"
      },
      "source": [
        "# Define a multivariate Gaussian distribution without broadcasting\n",
        "\n",
        "single_mvt_normal = tfd.MultivariateNormalDiag(loc=[0., 0.], scale_diag=[1., 0.5])\n",
        "single_mvt_normal"
      ],
      "execution_count": null,
      "outputs": [
        {
          "output_type": "execute_result",
          "data": {
            "text/plain": [
              "<tfp.distributions.MultivariateNormalDiag 'MultivariateNormalDiag' batch_shape=[] event_shape=[2] dtype=float32>"
            ]
          },
          "metadata": {},
          "execution_count": 46
        }
      ]
    },
    {
      "cell_type": "code",
      "metadata": {
        "id": "0oLHuNnrB0mZ",
        "colab": {
          "base_uri": "https://localhost:8080/"
        },
        "outputId": "6cceec2f-96d8-40e4-f4a8-1aa796dc19e3"
      },
      "source": [
        "# Print the loc parameter\n",
        "\n",
        "single_mvt_normal.loc"
      ],
      "execution_count": null,
      "outputs": [
        {
          "output_type": "execute_result",
          "data": {
            "text/plain": [
              "<tf.Tensor: shape=(2,), dtype=float32, numpy=array([0., 0.], dtype=float32)>"
            ]
          },
          "metadata": {},
          "execution_count": 47
        }
      ]
    },
    {
      "cell_type": "code",
      "metadata": {
        "id": "hSfz6hOjB0mb",
        "colab": {
          "base_uri": "https://localhost:8080/"
        },
        "outputId": "8c93c4d1-b112-4abe-ca16-77def7df6947"
      },
      "source": [
        "# Print the covariance matrix - the diagonal is scale_diag^2\n",
        "\n",
        "single_mvt_normal.covariance()"
      ],
      "execution_count": null,
      "outputs": [
        {
          "output_type": "execute_result",
          "data": {
            "text/plain": [
              "<tf.Tensor: shape=(2, 2), dtype=float32, numpy=\n",
              "array([[1.  , 0.  ],\n",
              "       [0.  , 0.25]], dtype=float32)>"
            ]
          },
          "metadata": {},
          "execution_count": 48
        }
      ]
    },
    {
      "cell_type": "markdown",
      "metadata": {
        "id": "Ym9A5tFJB0md"
      },
      "source": [
        "The size of the final axis of the inputs determines the event shape for each distribution in the batch.  This means that if we pass\n",
        "    \n",
        "    loc = [ [0., 0.],\n",
        "            [1., 1.] ]\n",
        "    scale_diag = [1., 0.5]\n",
        "    \n",
        "such that\n",
        "\n",
        "    loc:        2 x 2\n",
        "    scale_diag: 1 x 2\n",
        "                    ^ final dimension is interpreted as event dimension\n",
        "                ^ other dimensions are interpreted as batch dimensions  \n",
        "then a batch of two bivariate normal distributions will be created."
      ]
    },
    {
      "cell_type": "code",
      "metadata": {
        "id": "1ayuBOfMB0md"
      },
      "source": [
        "# Define a multivariate Gaussian distribution with broadcasting\n",
        "\n",
        "loc = [ [0., 0.],\n",
        "        [1., 1.] ]\n",
        "scale_diag = [1., 0.5]\n",
        "\n",
        "batch_of_mvt_normals = tfd.MultivariateNormalDiag(loc=loc, scale_diag=scale_diag)"
      ],
      "execution_count": null,
      "outputs": []
    },
    {
      "cell_type": "code",
      "metadata": {
        "id": "D7RoWZ7uB0mg",
        "colab": {
          "base_uri": "https://localhost:8080/"
        },
        "outputId": "3c8c3275-470b-498a-932b-710d86bf5e45"
      },
      "source": [
        "# Print the distribution - note the event_shape and batch_shape\n",
        "\n",
        "batch_of_mvt_normals"
      ],
      "execution_count": null,
      "outputs": [
        {
          "output_type": "execute_result",
          "data": {
            "text/plain": [
              "<tfp.distributions.MultivariateNormalDiag 'MultivariateNormalDiag' batch_shape=[2] event_shape=[2] dtype=float32>"
            ]
          },
          "metadata": {},
          "execution_count": 50
        }
      ]
    },
    {
      "cell_type": "code",
      "metadata": {
        "id": "uLiSBvH8B0mj",
        "colab": {
          "base_uri": "https://localhost:8080/"
        },
        "outputId": "fe226c23-f187-454d-d4f6-464255b43c9e"
      },
      "source": [
        "# Print the distribution parameters\n",
        "# There is a batch of two distributions with different means and same covariance\n",
        "\n",
        "batch_of_mvt_normals.parameters"
      ],
      "execution_count": null,
      "outputs": [
        {
          "output_type": "execute_result",
          "data": {
            "text/plain": [
              "{'allow_nan_stats': True,\n",
              " 'experimental_use_kahan_sum': False,\n",
              " 'loc': ListWrapper([ListWrapper([0.0, 0.0]), ListWrapper([1.0, 1.0])]),\n",
              " 'name': 'MultivariateNormalDiag',\n",
              " 'scale_diag': ListWrapper([1.0, 0.5]),\n",
              " 'scale_identity_multiplier': None,\n",
              " 'validate_args': False}"
            ]
          },
          "metadata": {},
          "execution_count": 51
        }
      ]
    },
    {
      "cell_type": "markdown",
      "metadata": {
        "id": "vxFjfOaWB0mk"
      },
      "source": [
        "Knowing that, for multivariate distributions, TensorFlow \n",
        "\n",
        "- interprets the final axis of an array of parameters as the event shape, \n",
        "\n",
        "\n",
        "- and broadcasts over the remaining axes,  \n",
        "\n",
        "can you predict what the batch and event shapes will if we pass the arguments\n",
        "\n",
        "\n",
        "    loc = [ [ 1.,  1.,  1.],\n",
        "            [-1., -1., -1.] ] # shape (2, 3)\n",
        "    scale_diag = [ [[0.1, 0.1, 0.1]],\n",
        "                   [[10., 10., 10.]] ] # shape (2, 1, 3)\n",
        "                   \n",
        "to `MultivariateNormalDiag`?"
      ]
    },
    {
      "cell_type": "markdown",
      "metadata": {
        "id": "_hjyvkW-B0ml"
      },
      "source": [
        "Solution:\n",
        "\n",
        "Align the parameter array shapes on their last axis, prepending 1s where necessary:  \n",
        "    \n",
        "           loc: 1 x 2 x 3  \n",
        "    scale_diag: 2 x 1 x 3  \n",
        "\n",
        "The final axis has size 3, so `event_shape = (3)`. The remaining axes are broadcast over to yield  \n",
        "    \n",
        "           loc: 2 x 2 x 3  \n",
        "    scale_diag: 2 x 2 x 3  \n",
        "\n",
        "so `batch_shape = (2, 2)`.\n",
        "\n",
        "Let's see if this is correct!"
      ]
    },
    {
      "cell_type": "code",
      "metadata": {
        "id": "pVPE8_C6B0ml"
      },
      "source": [
        "# Define a multivariate Gaussian distribution with broadcasting\n",
        "\n",
        "loc = [ [ 1.,  1.,  1.],\n",
        "        [-1., -1., -1.] ]  # shape (2, 3)\n",
        "scale_diag = [ [[0.1, 0.1, 0.1]],\n",
        "               [[10., 10., 10.]] ]  # shape (2, 1, 3)\n",
        "\n",
        "another_batch_of_mvt_normals = tfd.MultivariateNormalDiag(loc=loc, scale_diag=scale_diag)"
      ],
      "execution_count": null,
      "outputs": []
    },
    {
      "cell_type": "code",
      "metadata": {
        "id": "54utgyM-B0mn",
        "colab": {
          "base_uri": "https://localhost:8080/"
        },
        "outputId": "59aa7f64-9ccc-48ff-8473-5af5cf1f8d5f"
      },
      "source": [
        "# Print the distribution and note batch and event shapes - bingo!\n",
        "\n",
        "another_batch_of_mvt_normals"
      ],
      "execution_count": null,
      "outputs": [
        {
          "output_type": "execute_result",
          "data": {
            "text/plain": [
              "<tfp.distributions.MultivariateNormalDiag 'MultivariateNormalDiag' batch_shape=[2, 2] event_shape=[3] dtype=float32>"
            ]
          },
          "metadata": {},
          "execution_count": 53
        }
      ]
    },
    {
      "cell_type": "code",
      "metadata": {
        "id": "396iTbOzB0mp",
        "colab": {
          "base_uri": "https://localhost:8080/"
        },
        "outputId": "8987ee9f-c519-4c6d-b66d-98efa6c8996a"
      },
      "source": [
        "# Print the distribution parameters\n",
        "\n",
        "another_batch_of_mvt_normals.parameters"
      ],
      "execution_count": null,
      "outputs": [
        {
          "output_type": "execute_result",
          "data": {
            "text/plain": [
              "{'allow_nan_stats': True,\n",
              " 'experimental_use_kahan_sum': False,\n",
              " 'loc': ListWrapper([ListWrapper([1.0, 1.0, 1.0]), ListWrapper([-1.0, -1.0, -1.0])]),\n",
              " 'name': 'MultivariateNormalDiag',\n",
              " 'scale_diag': ListWrapper([ListWrapper([ListWrapper([0.1, 0.1, 0.1])]), ListWrapper([ListWrapper([10.0, 10.0, 10.0])])]),\n",
              " 'scale_identity_multiplier': None,\n",
              " 'validate_args': False}"
            ]
          },
          "metadata": {},
          "execution_count": 54
        }
      ]
    },
    {
      "cell_type": "markdown",
      "metadata": {
        "id": "J-t1_QR3B0mr"
      },
      "source": [
        "As we did before lets also look at broadcasting when we have batches of multivariate distributions."
      ]
    },
    {
      "cell_type": "code",
      "metadata": {
        "id": "pF4xI1VxB0mr",
        "colab": {
          "base_uri": "https://localhost:8080/"
        },
        "outputId": "1d47c304-336f-4d9d-b82d-9bc55922ec19"
      },
      "source": [
        "# Define a batch of Normal distributions with broadcasting\n",
        "\n",
        "loc = [[0.],\n",
        "       [1.],\n",
        "       [0.]]\n",
        "scale = [1., 10., 100., 1., 10, 100.]\n",
        "\n",
        "another_batch_of_normals = tfd.Normal(loc=loc, scale=scale)\n",
        "another_batch_of_normals"
      ],
      "execution_count": null,
      "outputs": [
        {
          "output_type": "execute_result",
          "data": {
            "text/plain": [
              "<tfp.distributions.Normal 'Normal' batch_shape=[3, 6] event_shape=[] dtype=float32>"
            ]
          },
          "metadata": {},
          "execution_count": 55
        }
      ]
    },
    {
      "cell_type": "markdown",
      "metadata": {
        "id": "gG4I5i3PB0mt"
      },
      "source": [
        "And to refresh our memory of `Independent` we'll use it below to roll the rightmost batch shape into the event shape. "
      ]
    },
    {
      "cell_type": "code",
      "metadata": {
        "id": "fwrCFa-KB0mt",
        "colab": {
          "base_uri": "https://localhost:8080/"
        },
        "outputId": "28bf812b-16ca-4193-e4a0-819f5b7e922a"
      },
      "source": [
        "# Create a multivariate Independent distribution\n",
        "\n",
        "another_batch_of_mvt_normals = tfd.Independent(another_batch_of_normals)\n",
        "another_batch_of_mvt_normals"
      ],
      "execution_count": null,
      "outputs": [
        {
          "output_type": "stream",
          "name": "stdout",
          "text": [
            "WARNING:tensorflow:From /usr/local/lib/python3.7/dist-packages/tensorflow_probability/python/distributions/distribution.py:342: calling Independent.__init__ (from tensorflow_probability.python.distributions.independent) with reinterpreted_batch_ndims=None is deprecated and will be removed after 2022-03-01.\n",
            "Instructions for updating:\n",
            "Please pass an integer value for `reinterpreted_batch_ndims`. The current behavior corresponds to `reinterpreted_batch_ndims=tf.size(distribution.batch_shape_tensor()) - 1`.\n"
          ]
        },
        {
          "output_type": "execute_result",
          "data": {
            "text/plain": [
              "<tfp.distributions.Independent 'IndependentNormal' batch_shape=[3] event_shape=[6] dtype=float32>"
            ]
          },
          "metadata": {},
          "execution_count": 56
        }
      ]
    },
    {
      "cell_type": "markdown",
      "metadata": {
        "id": "37mmasOiB0mv"
      },
      "source": [
        "Now, onto the broadcasting: "
      ]
    },
    {
      "cell_type": "code",
      "metadata": {
        "id": "YDfl-pqzB0mw",
        "colab": {
          "base_uri": "https://localhost:8080/"
        },
        "outputId": "f78ebb33-c121-4396-aa29-829e48cefbe2"
      },
      "source": [
        "# Use broadcasting with the prob method\n",
        "# B shaped input (broadcast over event)\n",
        "\n",
        "sample = tf.random.uniform((3, 1))\n",
        "another_batch_of_mvt_normals.prob(sample)"
      ],
      "execution_count": null,
      "outputs": [
        {
          "output_type": "execute_result",
          "data": {
            "text/plain": [
              "<tf.Tensor: shape=(3,), dtype=float32, numpy=array([1.7873899e-09, 1.6492798e-09, 1.6050872e-09], dtype=float32)>"
            ]
          },
          "metadata": {},
          "execution_count": 57
        }
      ]
    },
    {
      "cell_type": "code",
      "metadata": {
        "id": "tYu7hrNyB0my",
        "colab": {
          "base_uri": "https://localhost:8080/"
        },
        "outputId": "5074b2c9-395d-49c9-cedc-7e9034322ee0"
      },
      "source": [
        "# Use broadcasting with the prob method\n",
        "# E shaped input (broadcast over batch)\n",
        "\n",
        "sample = tf.random.uniform((1, 6))\n",
        "another_batch_of_mvt_normals.prob(sample)"
      ],
      "execution_count": null,
      "outputs": [
        {
          "output_type": "execute_result",
          "data": {
            "text/plain": [
              "<tf.Tensor: shape=(3,), dtype=float32, numpy=array([2.0386526e-09, 3.8477319e-09, 2.0386526e-09], dtype=float32)>"
            ]
          },
          "metadata": {},
          "execution_count": 58
        }
      ]
    },
    {
      "cell_type": "code",
      "metadata": {
        "id": "Ou7NVaQkB0mz",
        "colab": {
          "base_uri": "https://localhost:8080/"
        },
        "outputId": "4e63c95a-9de6-4aec-cbc7-f4b990e41b80"
      },
      "source": [
        "# Use broadcasting with the prob method\n",
        "# [S,B,E] shaped input (broadcast over samples)\n",
        "\n",
        "sample = tf.random.uniform((2, 3, 6))\n",
        "another_batch_of_mvt_normals.prob(sample)"
      ],
      "execution_count": null,
      "outputs": [
        {
          "output_type": "execute_result",
          "data": {
            "text/plain": [
              "<tf.Tensor: shape=(2, 3), dtype=float32, numpy=\n",
              "array([[3.7534122e-09, 3.3980863e-09, 2.0024156e-09],\n",
              "       [2.7522322e-09, 2.5312663e-09, 3.7173831e-09]], dtype=float32)>"
            ]
          },
          "metadata": {},
          "execution_count": 59
        }
      ]
    },
    {
      "cell_type": "code",
      "metadata": {
        "id": "Q3S322z_B0m2",
        "colab": {
          "base_uri": "https://localhost:8080/"
        },
        "outputId": "9d6c035d-bc4f-43f2-9e3e-c564633e6b69"
      },
      "source": [
        "# [S,b,e] shaped input where [b,e] can be broadcast agaisnt [B,E]\n",
        "sample = tf.random.uniform((2, 1, 6))\n",
        "another_batch_of_mvt_normals.prob(sample)"
      ],
      "execution_count": null,
      "outputs": [
        {
          "output_type": "execute_result",
          "data": {
            "text/plain": [
              "<tf.Tensor: shape=(2, 3), dtype=float32, numpy=\n",
              "array([[2.8027383e-09, 3.3544769e-09, 2.8027383e-09],\n",
              "       [2.4754374e-09, 2.6340994e-09, 2.4754374e-09]], dtype=float32)>"
            ]
          },
          "metadata": {},
          "execution_count": 60
        }
      ]
    },
    {
      "cell_type": "markdown",
      "metadata": {
        "id": "hceF4UCdB0m4"
      },
      "source": [
        "As a final example with `log_prob` instead of `prob`"
      ]
    },
    {
      "cell_type": "code",
      "metadata": {
        "id": "oqw4WtVFB0m4",
        "colab": {
          "base_uri": "https://localhost:8080/"
        },
        "outputId": "df26e6e1-0151-4700-aa99-2ff2d723f917"
      },
      "source": [
        "# Use broadcasting with the log_prob method\n",
        "# [S,b,e] shaped input where [b,e] can be broadcast agaisnt [B,E]\n",
        "\n",
        "sample = tf.random.uniform((2, 3, 1))\n",
        "another_batch_of_mvt_normals.prob(sample)"
      ],
      "execution_count": null,
      "outputs": [
        {
          "output_type": "execute_result",
          "data": {
            "text/plain": [
              "<tf.Tensor: shape=(2, 3), dtype=float32, numpy=\n",
              "array([[4.0012447e-09, 1.4841318e-09, 1.5494556e-09],\n",
              "       [3.0519391e-09, 3.6897558e-09, 2.7228981e-09]], dtype=float32)>"
            ]
          },
          "metadata": {},
          "execution_count": 61
        }
      ]
    },
    {
      "cell_type": "markdown",
      "metadata": {
        "id": "B4nnQyxzB0m7"
      },
      "source": [
        "You should now feel confident specifying batches of distributions using broadcasting. As you may have already guessed, broadcasting is especially useful when specifying grids of hyperparameters. \n",
        "\n",
        "If you don't feel entirely comfortable with broadcasting quite yet, don't worry: re-read this notebook, go through the further reading provided below, and experiment with broadcasting in both numpy and TensorFlow, and you'll be broadcasting in no time."
      ]
    },
    {
      "cell_type": "markdown",
      "metadata": {
        "id": "y9Mz2mOeB0m8"
      },
      "source": [
        "### Further reading and resources\n",
        "* Numpy documentation on broadcasting: https://numpy.org/devdocs/user/theory.broadcasting.html\n",
        "* https://www.tensorflow.org/xla/broadcasting"
      ]
    }
  ]
}